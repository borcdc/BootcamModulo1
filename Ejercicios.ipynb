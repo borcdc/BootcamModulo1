{
    "metadata": {
        "kernelspec": {
            "name": "SQL",
            "display_name": "SQL",
            "language": "sql"
        },
        "language_info": {
            "name": "sql",
            "version": ""
        }
    },
    "nbformat_minor": 2,
    "nbformat": 4,
    "cells": [
        {
            "cell_type": "markdown",
            "source": [
                "#EJERCICIOS AZURESQL WORK ADVNETURE"
            ],
            "metadata": {
                "azdata_cell_guid": "78d95202-a4bb-4183-bb4f-ec038a8a2dde"
            },
            "attachments": {}
        },
        {
            "cell_type": "markdown",
            "source": [
                "1.Cual es la region con el mayor numero de  ventas en el ultimo trimestre."
            ],
            "metadata": {
                "azdata_cell_guid": "1fb47331-6719-48d4-aa76-ab1907018ce3"
            },
            "attachments": {}
        },
        {
            "cell_type": "code",
            "source": [
                "SELECT SA.CountryRegion, CA.AddressID, SA.AddressID, SO.CustomerID, CA.CustomerID,SUM(OrderQty) AS CANTIDAD_VENTAS \n",
                "FROM SalesLT.Address SA\n",
                "INNER JOIN SalesLT.CustomerAddress CA ON SA.AddressID = CA.AddressID\n",
                "INNER JOIN SalesLT.SalesOrderHeader SO ON SO.CustomerID = CA.CustomerID\n",
                "INNER JOIN SalesLT.SalesOrderDetail SOD ON SOD.SalesOrderID = SO.SalesOrderID\n",
                "WHERE CONVERT(DATE, SO.OrderDate) BETWEEN '2008-01-01' AND '2001-01-30'\n",
                "GROUP BY SA.CountryRegion,CA.AddressID, SA.AddressID, SO.CustomerID, CA.CustomerID\n",
                ""
            ],
            "metadata": {
                "azdata_cell_guid": "32f042bf-aaa4-49fb-92e7-e26635af2ac3",
                "language": "sql"
            },
            "outputs": [
                {
                    "output_type": "display_data",
                    "data": {
                        "text/html": "(0 rows affected)"
                    },
                    "metadata": {}
                },
                {
                    "output_type": "display_data",
                    "data": {
                        "text/html": "Total execution time: 00:00:00.086"
                    },
                    "metadata": {}
                },
                {
                    "output_type": "execute_result",
                    "execution_count": 31,
                    "data": {
                        "application/vnd.dataresource+json": {
                            "schema": {
                                "fields": [
                                    {
                                        "name": "CountryRegion"
                                    },
                                    {
                                        "name": "AddressID"
                                    },
                                    {
                                        "name": "AddressID"
                                    },
                                    {
                                        "name": "CustomerID"
                                    },
                                    {
                                        "name": "CustomerID"
                                    },
                                    {
                                        "name": "CANTIDAD_VENTAS"
                                    }
                                ]
                            },
                            "data": []
                        },
                        "text/html": "<table><tr><th>CountryRegion</th><th>AddressID</th><th>AddressID</th><th>CustomerID</th><th>CustomerID</th><th>CANTIDAD_VENTAS</th></tr></table>"
                    },
                    "metadata": {}
                }
            ],
            "execution_count": 31
        },
        {
            "cell_type": "code",
            "source": [
                "SELECT SA.CountryRegion, CA.AddressID, SA.AddressID, SO.CustomerID, CA.CustomerID, SUM(SOD.OrderQty) AS CANTIDAD_VENTAS\n",
                "FROM SalesLT.Address SA\n",
                "INNER JOIN SalesLT.CustomerAddress CA ON SA.AddressID = CA.AddressID\n",
                "INNER JOIN SalesLT.SalesOrderHeader SO ON SO.CustomerID = CA.CustomerID\n",
                "INNER JOIN SalesLT.SalesOrderDetail SOD ON SOD.SalesOrderID = SO.SalesOrderID\n",
                "WHERE CONVERT(DATE, SO.OrderDate) >= DATEADD(QUARTER, -1, DATEADD(QUARTER, DATEDIFF(QUARTER, 0, GETDATE()), 0))\n",
                "  AND CONVERT(DATE, SO.OrderDate) < DATEADD(QUARTER, 0, DATEADD(QUARTER, DATEDIFF(QUARTER, 0, GETDATE()), 0))\n",
                "GROUP BY SA.CountryRegion, CA.AddressID, SA.AddressID, SO.CustomerID, CA.CustomerID;"
            ],
            "metadata": {
                "azdata_cell_guid": "6f3584cc-33d1-4943-9725-bac62e573a44",
                "language": "sql"
            },
            "outputs": [
                {
                    "output_type": "display_data",
                    "data": {
                        "text/html": "(0 rows affected)"
                    },
                    "metadata": {}
                },
                {
                    "output_type": "display_data",
                    "data": {
                        "text/html": "Total execution time: 00:00:00.096"
                    },
                    "metadata": {}
                },
                {
                    "output_type": "execute_result",
                    "execution_count": 40,
                    "data": {
                        "application/vnd.dataresource+json": {
                            "schema": {
                                "fields": [
                                    {
                                        "name": "CountryRegion"
                                    },
                                    {
                                        "name": "AddressID"
                                    },
                                    {
                                        "name": "AddressID"
                                    },
                                    {
                                        "name": "CustomerID"
                                    },
                                    {
                                        "name": "CustomerID"
                                    },
                                    {
                                        "name": "CANTIDAD_VENTAS"
                                    }
                                ]
                            },
                            "data": []
                        },
                        "text/html": "<table><tr><th>CountryRegion</th><th>AddressID</th><th>AddressID</th><th>CustomerID</th><th>CustomerID</th><th>CANTIDAD_VENTAS</th></tr></table>"
                    },
                    "metadata": {}
                }
            ],
            "execution_count": 40
        },
        {
            "cell_type": "code",
            "source": [
                "WITH LastQuarter AS (\n",
                "    SELECT DISTINCT\n",
                "        DATEPART(YEAR, OrderDate) AS Year,\n",
                "        DATEPART(QUARTER, OrderDate) AS Quarter\n",
                "    FROM SalesLT.SalesOrderHeader\n",
                ")\n",
                "SELECT SA.CountryRegion, SUM(SOD.OrderQty) AS CANTIDAD_VENTAS\n",
                "FROM SalesLT.Address SA\n",
                "INNER JOIN SalesLT.CustomerAddress CA ON SA.AddressID = CA.AddressID\n",
                "INNER JOIN SalesLT.SalesOrderHeader SO ON SO.CustomerID = CA.CustomerID\n",
                "INNER JOIN SalesLT.SalesOrderDetail SOD ON SOD.SalesOrderID = SO.SalesOrderID\n",
                "WHERE DATEPART(YEAR, SO.OrderDate) = (\n",
                "    SELECT MAX(Year) FROM LastQuarter WHERE Quarter = (\n",
                "        SELECT MAX(Quarter) FROM LastQuarter\n",
                "    )\n",
                ")\n",
                "AND DATEPART(QUARTER, SO.OrderDate) = (\n",
                "    SELECT MAX(Quarter) FROM LastQuarter\n",
                ")\n",
                "GROUP BY SA.CountryRegion;"
            ],
            "metadata": {
                "azdata_cell_guid": "81ce3b73-4de6-4d02-9887-7bc9c2564fba",
                "language": "sql"
            },
            "outputs": [
                {
                    "output_type": "display_data",
                    "data": {
                        "text/html": "(2 rows affected)"
                    },
                    "metadata": {}
                },
                {
                    "output_type": "display_data",
                    "data": {
                        "text/html": "Total execution time: 00:00:00.106"
                    },
                    "metadata": {}
                },
                {
                    "output_type": "execute_result",
                    "execution_count": 42,
                    "data": {
                        "application/vnd.dataresource+json": {
                            "schema": {
                                "fields": [
                                    {
                                        "name": "CountryRegion"
                                    },
                                    {
                                        "name": "CANTIDAD_VENTAS"
                                    }
                                ]
                            },
                            "data": [
                                {
                                    "CountryRegion": "United Kingdom",
                                    "CANTIDAD_VENTAS": "1172"
                                },
                                {
                                    "CountryRegion": "United States",
                                    "CANTIDAD_VENTAS": "915"
                                }
                            ]
                        },
                        "text/html": "<table><tr><th>CountryRegion</th><th>CANTIDAD_VENTAS</th></tr><tr><td>United Kingdom</td><td>1172</td></tr><tr><td>United States</td><td>915</td></tr></table>"
                    },
                    "metadata": {}
                }
            ],
            "execution_count": 42
        },
        {
            "cell_type": "markdown",
            "source": [
                "1. Identificación del problema: Queremos filtrar los datos del último trimestre disponibles en la columna `OrderDate` de la tabla `SalesOrderHeader`, sin depender de la fecha actual.\n",
                "    \n",
                "2. Crear una subconsulta para obtener trimestres y años disponibles:\n",
                "    \n",
                "    Sql\n",
                "    \n",
                "    Copiar\n",
                "    \n",
                "    ```\n",
                "    WITH LastQuarter AS (\n",
                "        SELECT DISTINCT\n",
                "            DATEPART(YEAR, OrderDate) AS Year,\n",
                "            DATEPART(QUARTER, OrderDate) AS Quarter\n",
                "        FROM SalesLT.SalesOrderHeader\n",
                "    )\n",
                "    \n",
                "    ```\n",
                "    \n",
                "    Esta subconsulta (`LastQuarter`) selecciona de manera distinta todos los años y trimestres presentes en los datos de `OrderDate`. Utilizamos `DATEPART` para extraer el año y el trimestre de cada fecha.\n",
                "    \n",
                "3. Encontrar el año y trimestre más recientes:\n",
                "    \n",
                "    Sql\n",
                "    \n",
                "    Copiar\n",
                "    \n",
                "    ```\n",
                "    WHERE DATEPART(YEAR, SO.OrderDate) = (\n",
                "        SELECT MAX(Year) FROM LastQuarter WHERE Quarter = (\n",
                "            SELECT MAX(Quarter) FROM LastQuarter\n",
                "        )\n",
                "    )\n",
                "    AND DATEPART(QUARTER, SO.OrderDate) = (\n",
                "        SELECT MAX(Quarter) FROM LastQuarter\n",
                "    )\n",
                "    \n",
                "    ```\n",
                "    \n",
                "    Aquí, estamos seleccionando el mayor año (`MAX(Year)`) donde el trimestre (`Quarter`) es el mayor (`MAX(Quarter)`). Esto asegura que estamos obteniendo el último trimestre en nuestros datos.\n",
                "    \n",
                "4. Unir con la consulta principal: Finalmente, incorporamos la subconsulta dentro de nuestro query principal para filtrar los datos del último trimestre.\n",
                "    \n",
                "    Sql\n",
                "    \n",
                "    Copiar\n",
                "    \n",
                "    ```\n",
                "    SELECT SA.CountryRegion, CA.AddressID, SA.AddressID, SO.CustomerID, CA.CustomerID, SUM(SOD.OrderQty) AS CANTIDAD_VENTAS\n",
                "    FROM SalesLT.Address SA\n",
                "    INNER JOIN SalesLT.CustomerAddress CA ON SA.AddressID = CA.AddressID\n",
                "    INNER JOIN SalesLT.SalesOrderHeader SO ON SO.CustomerID = CA.CustomerID\n",
                "    INNER JOIN SalesLT.SalesOrderDetail SOD ON SOD.SalesOrderID = SO.SalesOrderID\n",
                "    WHERE DATEPART(YEAR, SO.OrderDate) = (\n",
                "        SELECT MAX(Year) FROM LastQuarter WHERE Quarter = (\n",
                "            SELECT MAX(Quarter) FROM LastQuarter\n",
                "        )\n",
                "    )\n",
                "    AND DATEPART(QUARTER, SO.OrderDate) = (\n",
                "        SELECT MAX(Quarter) FROM LastQuarter\n",
                "    )\n",
                "    GROUP BY SA.CountryRegion, CA.AddressID, SA.AddressID, SO.CustomerID, CA.CustomerID;\n",
                "    \n",
                "    ```\n",
                "    \n",
                "\n",
                "### Resumen\n",
                "\n",
                "1. Subconsulta: Se usa para obtener todos los años y trimestres de las fechas disponibles.\n",
                "    \n",
                "2. Selección del último trimestre: Filtramos para obtener el año y el trimestre más recientes.\n",
                "    \n",
                "3. Consulta principal: Aplicamos el filtro del último trimestre en nuestro query principal.\n",
                "    \n",
                "\n",
                "Espero que este desglose te haya aclarado cómo conseguimos filtrar el último trimestre. ¿Algo más que quieras profundizar sobre este tema?"
            ],
            "metadata": {
                "azdata_cell_guid": "048d9ab6-afd5-4be3-bc49-983a5eb70e38"
            },
            "attachments": {}
        },
        {
            "cell_type": "markdown",
            "source": [
                "Organizar las consultas `JOIN` en SQL requiere algo de planificación y orden. Aquí tienes una guía paso a paso para organizarte como un verdadero pro:\n",
                "\n",
                "### Paso 1: Entender los datos\n",
                "\n",
                "- Conoce las tablas: Familiarízate con las tablas que vas a unir. Examina sus nombres de columnas y cómo se relacionan entre sí.\n",
                "    \n",
                "- Relaciones: Identifica las claves principales (Primary Keys) y claves foráneas (Foreign Keys).\n",
                "    \n",
                "\n",
                "### Paso 2: Definir el objetivo\n",
                "\n",
                "- Claridad del objetivo: ¿Qué información exacta necesitas obtener después de unir las tablas? Define claramente los campos y el tipo de datos que quieres recuperar.\n",
                "    \n",
                "\n",
                "### Paso 3: Planificar las uniones\n",
                "\n",
                "- Identificar las columnas de unión: Decide qué columnas usarás para hacer las uniones. Generalmente, estas son las claves que relacionan las tablas.\n",
                "    \n",
                "- Tipo de JOIN: Determina si necesitas un `INNER JOIN` (solo datos coincidentes), `LEFT JOIN` (todas las filas de la tabla izquierda y las coincidentes de la derecha), `RIGHT JOIN` (opuesto al LEFT JOIN) o `FULL JOIN` (todas las filas cuando haya una coincidencia en una de las tablas).\n",
                "    \n",
                "\n",
                "### Paso 4: Escribir el query\n",
                "\n",
                "- Esqueleto: Empieza con un esqueleto básico del query. Incluye las cláusulas `SELECT`, `FROM` y `JOIN`.\n",
                "    \n",
                "\n",
                "Sql\n",
                "\n",
                "Copiar\n",
                "\n",
                "```\n",
                "SELECT columna1, columna2, ...\n",
                "FROM tabla1\n",
                "JOIN tabla2 ON tabla1.columna_comun = tabla2.columna_comun\n",
                "\n",
                "```\n",
                "\n",
                "- Añadir más tablas: Añade más tablas siguiendo el mismo patrón.\n",
                "    \n",
                "\n",
                "Sql\n",
                "\n",
                "Copiar\n",
                "\n",
                "```\n",
                "SELECT columna1, columna2, ...\n",
                "FROM tabla1\n",
                "JOIN tabla2 ON tabla1.columna_comun = tabla2.columna_comun\n",
                "JOIN tabla3 ON tabla2.columna_comun = tabla3.columna_comun\n",
                "\n",
                "```\n",
                "\n",
                "### Paso 5: Filtrar y agrupar\n",
                "\n",
                "- Filtrado: Utiliza la cláusula `WHERE` para filtrar los datos según tus necesidades.\n",
                "    \n",
                "- Agrupación: Si necesitas agregar datos, usa `GROUP BY` y las funciones de agregación como `SUM`, `AVG`, etc.\n",
                "    \n",
                "\n",
                "Sql\n",
                "\n",
                "Copiar\n",
                "\n",
                "```\n",
                "SELECT columna1, columna2, SUM(columna3) AS total\n",
                "FROM tabla1\n",
                "JOIN tabla2 ON tabla1.columna_comun = tabla2.columna_comun\n",
                "WHERE condición\n",
                "GROUP BY columna1, columna2\n",
                "\n",
                "```\n",
                "\n",
                "### Paso 6: Ordenar\n",
                "\n",
                "- Ordenar los resultados: Usa `ORDER BY` si necesitas ordenar los resultados.\n",
                "    \n",
                "\n",
                "Sql\n",
                "\n",
                "Copiar\n",
                "\n",
                "```\n",
                "SELECT columna1, columna2, SUM(columna3) AS total\n",
                "FROM tabla1\n",
                "JOIN tabla2 ON tabla1.columna_comun = tabla2.columna_comun\n",
                "WHERE condición\n",
                "GROUP BY columna1, columna2\n",
                "ORDER BY total DESC\n",
                "\n",
                "```\n",
                "\n",
                "### Paso 7: Revisar y probar\n",
                "\n",
                "- Revisión: Revisa el query para detectar posibles errores.\n",
                "    \n",
                "- Prueba: Ejecuta el query en un entorno de prueba para asegurarte de que los resultados son los esperados."
            ],
            "metadata": {
                "azdata_cell_guid": "bc741c8a-ad78-4b51-afce-57b4320aa1da"
            },
            "attachments": {}
        },
        {
            "cell_type": "markdown",
            "source": [
                "2.Obtener la lista de los 10 primeros clientes:"
            ],
            "metadata": {
                "azdata_cell_guid": "3a18d0e8-ddef-4573-af79-e800eb3b36c2"
            },
            "attachments": {}
        },
        {
            "cell_type": "code",
            "source": [
                "SELECT TOP 10 CustomerID, FirstName, LastName, CompanyName\n",
                "FROM SalesLT.Customer\n",
                "ORDER BY LastName ASC;"
            ],
            "metadata": {
                "azdata_cell_guid": "488dfd1c-ce85-4fce-b7ee-73949ab27511",
                "language": "sql"
            },
            "outputs": [
                {
                    "output_type": "display_data",
                    "data": {
                        "text/html": "(10 rows affected)"
                    },
                    "metadata": {}
                },
                {
                    "output_type": "display_data",
                    "data": {
                        "text/html": "Total execution time: 00:00:00.707"
                    },
                    "metadata": {}
                },
                {
                    "output_type": "execute_result",
                    "execution_count": 43,
                    "data": {
                        "application/vnd.dataresource+json": {
                            "schema": {
                                "fields": [
                                    {
                                        "name": "CustomerID"
                                    },
                                    {
                                        "name": "FirstName"
                                    },
                                    {
                                        "name": "LastName"
                                    },
                                    {
                                        "name": "CompanyName"
                                    }
                                ]
                            },
                            "data": [
                                {
                                    "CustomerID": "582",
                                    "FirstName": "Catherine",
                                    "LastName": "Abel",
                                    "CompanyName": "Professional Sales and Service"
                                },
                                {
                                    "CustomerID": "29485",
                                    "FirstName": "Catherine",
                                    "LastName": "Abel",
                                    "CompanyName": "Professional Sales and Service"
                                },
                                {
                                    "CustomerID": "579",
                                    "FirstName": "Kim",
                                    "LastName": "Abercrombie",
                                    "CompanyName": "Riders Company"
                                },
                                {
                                    "CustomerID": "29486",
                                    "FirstName": "Kim",
                                    "LastName": "Abercrombie",
                                    "CompanyName": "Riders Company"
                                },
                                {
                                    "CustomerID": "491",
                                    "FirstName": "Frances",
                                    "LastName": "Adams",
                                    "CompanyName": "Area Bike Accessories"
                                },
                                {
                                    "CustomerID": "544",
                                    "FirstName": "Jay",
                                    "LastName": "Adams",
                                    "CompanyName": "Valley Bicycle Specialists"
                                },
                                {
                                    "CustomerID": "29489",
                                    "FirstName": "Frances",
                                    "LastName": "Adams",
                                    "CompanyName": "Area Bike Accessories"
                                },
                                {
                                    "CustomerID": "29492",
                                    "FirstName": "Jay",
                                    "LastName": "Adams",
                                    "CompanyName": "Valley Bicycle Specialists"
                                },
                                {
                                    "CustomerID": "551",
                                    "FirstName": "Samuel",
                                    "LastName": "Agcaoili",
                                    "CompanyName": "Vinyl and Plastic Goods Corporation"
                                },
                                {
                                    "CustomerID": "29494",
                                    "FirstName": "Samuel",
                                    "LastName": "Agcaoili",
                                    "CompanyName": "Vinyl and Plastic Goods Corporation"
                                }
                            ]
                        },
                        "text/html": "<table><tr><th>CustomerID</th><th>FirstName</th><th>LastName</th><th>CompanyName</th></tr><tr><td>582</td><td>Catherine</td><td>Abel</td><td>Professional Sales and Service</td></tr><tr><td>29485</td><td>Catherine</td><td>Abel</td><td>Professional Sales and Service</td></tr><tr><td>579</td><td>Kim</td><td>Abercrombie</td><td>Riders Company</td></tr><tr><td>29486</td><td>Kim</td><td>Abercrombie</td><td>Riders Company</td></tr><tr><td>491</td><td>Frances</td><td>Adams</td><td>Area Bike Accessories</td></tr><tr><td>544</td><td>Jay</td><td>Adams</td><td>Valley Bicycle Specialists</td></tr><tr><td>29489</td><td>Frances</td><td>Adams</td><td>Area Bike Accessories</td></tr><tr><td>29492</td><td>Jay</td><td>Adams</td><td>Valley Bicycle Specialists</td></tr><tr><td>551</td><td>Samuel</td><td>Agcaoili</td><td>Vinyl and Plastic Goods Corporation</td></tr><tr><td>29494</td><td>Samuel</td><td>Agcaoili</td><td>Vinyl and Plastic Goods Corporation</td></tr></table>"
                    },
                    "metadata": {}
                }
            ],
            "execution_count": 43
        },
        {
            "cell_type": "markdown",
            "source": [
                "3.Los cinco productos mas caros."
            ],
            "metadata": {
                "azdata_cell_guid": "92570794-5fb6-4367-9924-6beb2507d097"
            }
        },
        {
            "cell_type": "code",
            "source": [
                "SELECT TOP 5 ProductNumber,ListPrice FROM SalesLT.Product\n",
                "ORDER BY ListPrice DESC"
            ],
            "metadata": {
                "azdata_cell_guid": "159037b7-0702-48ad-af36-355cf31d4c1d",
                "language": "sql"
            },
            "outputs": [
                {
                    "output_type": "display_data",
                    "data": {
                        "text/html": "(5 rows affected)"
                    },
                    "metadata": {}
                },
                {
                    "output_type": "display_data",
                    "data": {
                        "text/html": "Total execution time: 00:00:00.082"
                    },
                    "metadata": {}
                },
                {
                    "output_type": "execute_result",
                    "metadata": {},
                    "execution_count": 7,
                    "data": {
                        "application/vnd.dataresource+json": {
                            "schema": {
                                "fields": [
                                    {
                                        "name": "ProductNumber"
                                    },
                                    {
                                        "name": "ListPrice"
                                    }
                                ]
                            },
                            "data": [
                                {
                                    "ProductNumber": "BK-R93R-62",
                                    "ListPrice": "3578,27"
                                },
                                {
                                    "ProductNumber": "BK-R93R-44",
                                    "ListPrice": "3578,27"
                                },
                                {
                                    "ProductNumber": "BK-R93R-48",
                                    "ListPrice": "3578,27"
                                },
                                {
                                    "ProductNumber": "BK-R93R-52",
                                    "ListPrice": "3578,27"
                                },
                                {
                                    "ProductNumber": "BK-R93R-56",
                                    "ListPrice": "3578,27"
                                }
                            ]
                        },
                        "text/html": [
                            "<table>",
                            "<tr><th>ProductNumber</th><th>ListPrice</th></tr>",
                            "<tr><td>BK-R93R-62</td><td>3578,27</td></tr>",
                            "<tr><td>BK-R93R-44</td><td>3578,27</td></tr>",
                            "<tr><td>BK-R93R-48</td><td>3578,27</td></tr>",
                            "<tr><td>BK-R93R-52</td><td>3578,27</td></tr>",
                            "<tr><td>BK-R93R-56</td><td>3578,27</td></tr>",
                            "</table>"
                        ]
                    }
                }
            ],
            "execution_count": 7
        },
        {
            "cell_type": "markdown",
            "source": [
                "4.Contar cuantos productos hay en cada categoría."
            ],
            "metadata": {
                "azdata_cell_guid": "a461bd01-a73a-4283-823b-94c728a01810"
            },
            "attachments": {}
        },
        {
            "cell_type": "code",
            "source": [
                "SELECT PC.Name,COUNT(P.ProductID) AS CANTIDAD_PRODUCTO_TOTAL FROM SalesLT.ProductCategory PC\n",
                "LEFT JOIN SalesLT.Product P ON PC.ProductCategoryID = P.ProductCategoryID\n",
                "GROUP BY PC.NAME"
            ],
            "metadata": {
                "azdata_cell_guid": "66c3a144-6170-41cd-9861-db3ec538df62",
                "language": "sql",
                "tags": []
            },
            "outputs": [
                {
                    "output_type": "display_data",
                    "data": {
                        "text/html": "(41 rows affected)"
                    },
                    "metadata": {}
                },
                {
                    "output_type": "display_data",
                    "data": {
                        "text/html": "Total execution time: 00:00:00.091"
                    },
                    "metadata": {}
                },
                {
                    "output_type": "execute_result",
                    "metadata": {},
                    "execution_count": 10,
                    "data": {
                        "application/vnd.dataresource+json": {
                            "schema": {
                                "fields": [
                                    {
                                        "name": "Name"
                                    },
                                    {
                                        "name": "CANTIDAD_PRODUCTO_TOTAL"
                                    }
                                ]
                            },
                            "data": [
                                {
                                    "Name": "Bikes",
                                    "CANTIDAD_PRODUCTO_TOTAL": "0"
                                },
                                {
                                    "Name": "Components",
                                    "CANTIDAD_PRODUCTO_TOTAL": "0"
                                },
                                {
                                    "Name": "Clothing",
                                    "CANTIDAD_PRODUCTO_TOTAL": "0"
                                },
                                {
                                    "Name": "Accessories",
                                    "CANTIDAD_PRODUCTO_TOTAL": "0"
                                },
                                {
                                    "Name": "Mountain Bikes",
                                    "CANTIDAD_PRODUCTO_TOTAL": "32"
                                },
                                {
                                    "Name": "Road Bikes",
                                    "CANTIDAD_PRODUCTO_TOTAL": "43"
                                },
                                {
                                    "Name": "Touring Bikes",
                                    "CANTIDAD_PRODUCTO_TOTAL": "22"
                                },
                                {
                                    "Name": "Handlebars",
                                    "CANTIDAD_PRODUCTO_TOTAL": "8"
                                },
                                {
                                    "Name": "Bottom Brackets",
                                    "CANTIDAD_PRODUCTO_TOTAL": "3"
                                },
                                {
                                    "Name": "Brakes",
                                    "CANTIDAD_PRODUCTO_TOTAL": "2"
                                },
                                {
                                    "Name": "Chains",
                                    "CANTIDAD_PRODUCTO_TOTAL": "1"
                                },
                                {
                                    "Name": "Cranksets",
                                    "CANTIDAD_PRODUCTO_TOTAL": "3"
                                },
                                {
                                    "Name": "Derailleurs",
                                    "CANTIDAD_PRODUCTO_TOTAL": "2"
                                },
                                {
                                    "Name": "Forks",
                                    "CANTIDAD_PRODUCTO_TOTAL": "3"
                                },
                                {
                                    "Name": "Headsets",
                                    "CANTIDAD_PRODUCTO_TOTAL": "3"
                                },
                                {
                                    "Name": "Mountain Frames",
                                    "CANTIDAD_PRODUCTO_TOTAL": "28"
                                },
                                {
                                    "Name": "Pedals",
                                    "CANTIDAD_PRODUCTO_TOTAL": "7"
                                },
                                {
                                    "Name": "Road Frames",
                                    "CANTIDAD_PRODUCTO_TOTAL": "33"
                                },
                                {
                                    "Name": "Saddles",
                                    "CANTIDAD_PRODUCTO_TOTAL": "9"
                                },
                                {
                                    "Name": "Touring Frames",
                                    "CANTIDAD_PRODUCTO_TOTAL": "18"
                                },
                                {
                                    "Name": "Wheels",
                                    "CANTIDAD_PRODUCTO_TOTAL": "14"
                                },
                                {
                                    "Name": "Bib-Shorts",
                                    "CANTIDAD_PRODUCTO_TOTAL": "3"
                                },
                                {
                                    "Name": "Caps",
                                    "CANTIDAD_PRODUCTO_TOTAL": "1"
                                },
                                {
                                    "Name": "Gloves",
                                    "CANTIDAD_PRODUCTO_TOTAL": "6"
                                },
                                {
                                    "Name": "Jerseys",
                                    "CANTIDAD_PRODUCTO_TOTAL": "8"
                                },
                                {
                                    "Name": "Shorts",
                                    "CANTIDAD_PRODUCTO_TOTAL": "7"
                                },
                                {
                                    "Name": "Socks",
                                    "CANTIDAD_PRODUCTO_TOTAL": "4"
                                },
                                {
                                    "Name": "Tights",
                                    "CANTIDAD_PRODUCTO_TOTAL": "3"
                                },
                                {
                                    "Name": "Vests",
                                    "CANTIDAD_PRODUCTO_TOTAL": "3"
                                },
                                {
                                    "Name": "Bike Racks",
                                    "CANTIDAD_PRODUCTO_TOTAL": "1"
                                },
                                {
                                    "Name": "Bike Stands",
                                    "CANTIDAD_PRODUCTO_TOTAL": "1"
                                },
                                {
                                    "Name": "Bottles and Cages",
                                    "CANTIDAD_PRODUCTO_TOTAL": "3"
                                },
                                {
                                    "Name": "Cleaners",
                                    "CANTIDAD_PRODUCTO_TOTAL": "1"
                                },
                                {
                                    "Name": "Fenders",
                                    "CANTIDAD_PRODUCTO_TOTAL": "1"
                                },
                                {
                                    "Name": "Helmets",
                                    "CANTIDAD_PRODUCTO_TOTAL": "3"
                                },
                                {
                                    "Name": "Hydration Packs",
                                    "CANTIDAD_PRODUCTO_TOTAL": "1"
                                },
                                {
                                    "Name": "Lights",
                                    "CANTIDAD_PRODUCTO_TOTAL": "3"
                                },
                                {
                                    "Name": "Locks",
                                    "CANTIDAD_PRODUCTO_TOTAL": "1"
                                },
                                {
                                    "Name": "Panniers",
                                    "CANTIDAD_PRODUCTO_TOTAL": "1"
                                },
                                {
                                    "Name": "Pumps",
                                    "CANTIDAD_PRODUCTO_TOTAL": "2"
                                },
                                {
                                    "Name": "Tires and Tubes",
                                    "CANTIDAD_PRODUCTO_TOTAL": "11"
                                }
                            ]
                        },
                        "text/html": [
                            "<table>",
                            "<tr><th>Name</th><th>CANTIDAD_PRODUCTO_TOTAL</th></tr>",
                            "<tr><td>Bikes</td><td>0</td></tr>",
                            "<tr><td>Components</td><td>0</td></tr>",
                            "<tr><td>Clothing</td><td>0</td></tr>",
                            "<tr><td>Accessories</td><td>0</td></tr>",
                            "<tr><td>Mountain Bikes</td><td>32</td></tr>",
                            "<tr><td>Road Bikes</td><td>43</td></tr>",
                            "<tr><td>Touring Bikes</td><td>22</td></tr>",
                            "<tr><td>Handlebars</td><td>8</td></tr>",
                            "<tr><td>Bottom Brackets</td><td>3</td></tr>",
                            "<tr><td>Brakes</td><td>2</td></tr>",
                            "<tr><td>Chains</td><td>1</td></tr>",
                            "<tr><td>Cranksets</td><td>3</td></tr>",
                            "<tr><td>Derailleurs</td><td>2</td></tr>",
                            "<tr><td>Forks</td><td>3</td></tr>",
                            "<tr><td>Headsets</td><td>3</td></tr>",
                            "<tr><td>Mountain Frames</td><td>28</td></tr>",
                            "<tr><td>Pedals</td><td>7</td></tr>",
                            "<tr><td>Road Frames</td><td>33</td></tr>",
                            "<tr><td>Saddles</td><td>9</td></tr>",
                            "<tr><td>Touring Frames</td><td>18</td></tr>",
                            "<tr><td>Wheels</td><td>14</td></tr>",
                            "<tr><td>Bib-Shorts</td><td>3</td></tr>",
                            "<tr><td>Caps</td><td>1</td></tr>",
                            "<tr><td>Gloves</td><td>6</td></tr>",
                            "<tr><td>Jerseys</td><td>8</td></tr>",
                            "<tr><td>Shorts</td><td>7</td></tr>",
                            "<tr><td>Socks</td><td>4</td></tr>",
                            "<tr><td>Tights</td><td>3</td></tr>",
                            "<tr><td>Vests</td><td>3</td></tr>",
                            "<tr><td>Bike Racks</td><td>1</td></tr>",
                            "<tr><td>Bike Stands</td><td>1</td></tr>",
                            "<tr><td>Bottles and Cages</td><td>3</td></tr>",
                            "<tr><td>Cleaners</td><td>1</td></tr>",
                            "<tr><td>Fenders</td><td>1</td></tr>",
                            "<tr><td>Helmets</td><td>3</td></tr>",
                            "<tr><td>Hydration Packs</td><td>1</td></tr>",
                            "<tr><td>Lights</td><td>3</td></tr>",
                            "<tr><td>Locks</td><td>1</td></tr>",
                            "<tr><td>Panniers</td><td>1</td></tr>",
                            "<tr><td>Pumps</td><td>2</td></tr>",
                            "<tr><td>Tires and Tubes</td><td>11</td></tr>",
                            "</table>"
                        ]
                    }
                }
            ],
            "execution_count": 10
        },
        {
            "cell_type": "markdown",
            "source": [
                "5\\. Ventas totales para cada año. Resumen de ventas cada año para analoizar el crecimiento."
            ],
            "metadata": {
                "azdata_cell_guid": "50ba0139-8de2-44bf-a650-e1ce2e6642ff"
            },
            "attachments": {}
        },
        {
            "cell_type": "code",
            "source": [
                "SELECT YEAR(SOH.OrderDate) AS AÑO,SUM(SOD.OrderQty) AS TOTAL_VENTAS FROM SalesLT.SalesOrderDetail SOD\n",
                "LEFT JOIN SalesLT.SalesOrderHeader SOH ON SOD.SalesOrderID = SOD.SalesOrderID\n",
                "GROUP BY YEAR(SOH.OrderDate)\n",
                ""
            ],
            "metadata": {
                "azdata_cell_guid": "2413a920-7f4d-44b5-9a1a-f0ab1b3d612c",
                "language": "sql"
            },
            "outputs": [
                {
                    "output_type": "display_data",
                    "data": {
                        "text/html": "(1 row affected)"
                    },
                    "metadata": {}
                },
                {
                    "output_type": "display_data",
                    "data": {
                        "text/html": "Total execution time: 00:00:00.092"
                    },
                    "metadata": {}
                },
                {
                    "output_type": "execute_result",
                    "metadata": {},
                    "execution_count": 22,
                    "data": {
                        "application/vnd.dataresource+json": {
                            "schema": {
                                "fields": [
                                    {
                                        "name": "AÑO"
                                    },
                                    {
                                        "name": "TOTAL_VENTAS"
                                    }
                                ]
                            },
                            "data": [
                                {
                                    "AÑO": "2008",
                                    "TOTAL_VENTAS": "66784"
                                }
                            ]
                        },
                        "text/html": [
                            "<table>",
                            "<tr><th>AÑO</th><th>TOTAL_VENTAS</th></tr>",
                            "<tr><td>2008</td><td>66784</td></tr>",
                            "</table>"
                        ]
                    }
                }
            ],
            "execution_count": 22
        },
        {
            "cell_type": "markdown",
            "source": [
                "6.Lista de Productos precio superior a 1000 dolares y sus Categorias"
            ],
            "metadata": {
                "azdata_cell_guid": "8a5c1672-4030-499a-abc8-fd3ddf17a78f"
            },
            "attachments": {}
        }
    ]
}